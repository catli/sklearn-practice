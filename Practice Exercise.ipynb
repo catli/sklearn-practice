{
 "cells": [
  {
   "cell_type": "code",
   "execution_count": 2,
   "metadata": {},
   "outputs": [],
   "source": [
    "import pandas as pd\n",
    "import numpy as np\n",
    "\n",
    "file_name = 'breast-cancer-wisconsin.txt'\n",
    "df=pd.read_csv(file_name)\n",
    "\n",
    "# print(df.columns)\n",
    "features =  ['Clump Thickness', 'Uniformity of Cell Size',\n",
    "       'Uniformity of Cell Shape', 'Marginal Adhesion',\n",
    "       'Single Epithelial Cell Size', 'Bare Nuclei', 'Bland Chromatin',\n",
    "       'Normal Nucleoli', 'Mitoses']\n",
    "label = 'Class'\n",
    "\n"
   ]
  },
  {
   "cell_type": "code",
   "execution_count": 3,
   "metadata": {},
   "outputs": [
    {
     "data": {
      "text/html": [
       "<div>\n",
       "<style scoped>\n",
       "    .dataframe tbody tr th:only-of-type {\n",
       "        vertical-align: middle;\n",
       "    }\n",
       "\n",
       "    .dataframe tbody tr th {\n",
       "        vertical-align: top;\n",
       "    }\n",
       "\n",
       "    .dataframe thead th {\n",
       "        text-align: right;\n",
       "    }\n",
       "</style>\n",
       "<table border=\"1\" class=\"dataframe\">\n",
       "  <thead>\n",
       "    <tr style=\"text-align: right;\">\n",
       "      <th></th>\n",
       "      <th>Clump Thickness</th>\n",
       "      <th>Uniformity of Cell Size</th>\n",
       "      <th>Uniformity of Cell Shape</th>\n",
       "      <th>Marginal Adhesion</th>\n",
       "      <th>Single Epithelial Cell Size</th>\n",
       "      <th>Bare Nuclei</th>\n",
       "      <th>Bland Chromatin</th>\n",
       "      <th>Normal Nucleoli</th>\n",
       "      <th>Mitoses</th>\n",
       "    </tr>\n",
       "  </thead>\n",
       "  <tbody>\n",
       "    <tr>\n",
       "      <th>count</th>\n",
       "      <td>15855.000000</td>\n",
       "      <td>15827</td>\n",
       "      <td>15827</td>\n",
       "      <td>15827</td>\n",
       "      <td>15827</td>\n",
       "      <td>15827</td>\n",
       "      <td>15827</td>\n",
       "      <td>15827</td>\n",
       "      <td>15827</td>\n",
       "    </tr>\n",
       "    <tr>\n",
       "      <th>unique</th>\n",
       "      <td>NaN</td>\n",
       "      <td>21</td>\n",
       "      <td>19</td>\n",
       "      <td>20</td>\n",
       "      <td>19</td>\n",
       "      <td>19</td>\n",
       "      <td>19</td>\n",
       "      <td>22</td>\n",
       "      <td>14</td>\n",
       "    </tr>\n",
       "    <tr>\n",
       "      <th>top</th>\n",
       "      <td>NaN</td>\n",
       "      <td>10</td>\n",
       "      <td>4</td>\n",
       "      <td>3</td>\n",
       "      <td>3</td>\n",
       "      <td>10</td>\n",
       "      <td>3</td>\n",
       "      <td>1</td>\n",
       "      <td>1</td>\n",
       "    </tr>\n",
       "    <tr>\n",
       "      <th>freq</th>\n",
       "      <td>NaN</td>\n",
       "      <td>4051</td>\n",
       "      <td>4022</td>\n",
       "      <td>4035</td>\n",
       "      <td>6043</td>\n",
       "      <td>5123</td>\n",
       "      <td>6132</td>\n",
       "      <td>2430</td>\n",
       "      <td>10527</td>\n",
       "    </tr>\n",
       "    <tr>\n",
       "      <th>mean</th>\n",
       "      <td>8.263198</td>\n",
       "      <td>NaN</td>\n",
       "      <td>NaN</td>\n",
       "      <td>NaN</td>\n",
       "      <td>NaN</td>\n",
       "      <td>NaN</td>\n",
       "      <td>NaN</td>\n",
       "      <td>NaN</td>\n",
       "      <td>NaN</td>\n",
       "    </tr>\n",
       "    <tr>\n",
       "      <th>std</th>\n",
       "      <td>7.393603</td>\n",
       "      <td>NaN</td>\n",
       "      <td>NaN</td>\n",
       "      <td>NaN</td>\n",
       "      <td>NaN</td>\n",
       "      <td>NaN</td>\n",
       "      <td>NaN</td>\n",
       "      <td>NaN</td>\n",
       "      <td>NaN</td>\n",
       "    </tr>\n",
       "    <tr>\n",
       "      <th>min</th>\n",
       "      <td>1.000000</td>\n",
       "      <td>NaN</td>\n",
       "      <td>NaN</td>\n",
       "      <td>NaN</td>\n",
       "      <td>NaN</td>\n",
       "      <td>NaN</td>\n",
       "      <td>NaN</td>\n",
       "      <td>NaN</td>\n",
       "      <td>NaN</td>\n",
       "    </tr>\n",
       "    <tr>\n",
       "      <th>25%</th>\n",
       "      <td>7.000000</td>\n",
       "      <td>NaN</td>\n",
       "      <td>NaN</td>\n",
       "      <td>NaN</td>\n",
       "      <td>NaN</td>\n",
       "      <td>NaN</td>\n",
       "      <td>NaN</td>\n",
       "      <td>NaN</td>\n",
       "      <td>NaN</td>\n",
       "    </tr>\n",
       "    <tr>\n",
       "      <th>50%</th>\n",
       "      <td>8.000000</td>\n",
       "      <td>NaN</td>\n",
       "      <td>NaN</td>\n",
       "      <td>NaN</td>\n",
       "      <td>NaN</td>\n",
       "      <td>NaN</td>\n",
       "      <td>NaN</td>\n",
       "      <td>NaN</td>\n",
       "      <td>NaN</td>\n",
       "    </tr>\n",
       "    <tr>\n",
       "      <th>75%</th>\n",
       "      <td>10.000000</td>\n",
       "      <td>NaN</td>\n",
       "      <td>NaN</td>\n",
       "      <td>NaN</td>\n",
       "      <td>NaN</td>\n",
       "      <td>NaN</td>\n",
       "      <td>NaN</td>\n",
       "      <td>NaN</td>\n",
       "      <td>NaN</td>\n",
       "    </tr>\n",
       "    <tr>\n",
       "      <th>max</th>\n",
       "      <td>100.000000</td>\n",
       "      <td>NaN</td>\n",
       "      <td>NaN</td>\n",
       "      <td>NaN</td>\n",
       "      <td>NaN</td>\n",
       "      <td>NaN</td>\n",
       "      <td>NaN</td>\n",
       "      <td>NaN</td>\n",
       "      <td>NaN</td>\n",
       "    </tr>\n",
       "  </tbody>\n",
       "</table>\n",
       "</div>"
      ],
      "text/plain": [
       "        Clump Thickness Uniformity of Cell Size Uniformity of Cell Shape  \\\n",
       "count      15855.000000                   15827                    15827   \n",
       "unique              NaN                      21                       19   \n",
       "top                 NaN                      10                        4   \n",
       "freq                NaN                    4051                     4022   \n",
       "mean           8.263198                     NaN                      NaN   \n",
       "std            7.393603                     NaN                      NaN   \n",
       "min            1.000000                     NaN                      NaN   \n",
       "25%            7.000000                     NaN                      NaN   \n",
       "50%            8.000000                     NaN                      NaN   \n",
       "75%           10.000000                     NaN                      NaN   \n",
       "max          100.000000                     NaN                      NaN   \n",
       "\n",
       "       Marginal Adhesion Single Epithelial Cell Size Bare Nuclei  \\\n",
       "count              15827                       15827       15827   \n",
       "unique                20                          19          19   \n",
       "top                    3                           3          10   \n",
       "freq                4035                        6043        5123   \n",
       "mean                 NaN                         NaN         NaN   \n",
       "std                  NaN                         NaN         NaN   \n",
       "min                  NaN                         NaN         NaN   \n",
       "25%                  NaN                         NaN         NaN   \n",
       "50%                  NaN                         NaN         NaN   \n",
       "75%                  NaN                         NaN         NaN   \n",
       "max                  NaN                         NaN         NaN   \n",
       "\n",
       "       Bland Chromatin Normal Nucleoli Mitoses  \n",
       "count            15827           15827   15827  \n",
       "unique              19              22      14  \n",
       "top                  3               1       1  \n",
       "freq              6132            2430   10527  \n",
       "mean               NaN             NaN     NaN  \n",
       "std                NaN             NaN     NaN  \n",
       "min                NaN             NaN     NaN  \n",
       "25%                NaN             NaN     NaN  \n",
       "50%                NaN             NaN     NaN  \n",
       "75%                NaN             NaN     NaN  \n",
       "max                NaN             NaN     NaN  "
      ]
     },
     "execution_count": 3,
     "metadata": {},
     "output_type": "execute_result"
    }
   ],
   "source": [
    "\n",
    "\n",
    "# Exploratory analysis \n",
    "# Summarize the dataset \n",
    "df_features = df.loc[:,features]\n",
    "df_features.describe(include=\"all\")\n",
    "\n",
    "# Create PCA of features and plot \n",
    "\n",
    "\n",
    "# df.loc[:,features]"
   ]
  },
  {
   "cell_type": "code",
   "execution_count": null,
   "metadata": {},
   "outputs": [],
   "source": []
  },
  {
   "cell_type": "code",
   "execution_count": 4,
   "metadata": {},
   "outputs": [],
   "source": [
    "import csv \n",
    "\n",
    "def readAndCleanData(file_name):\n",
    "    x_arr = []\n",
    "    y_arr = []\n",
    "    read_file = open(file_name, 'r')\n",
    "    csv_reader = csv.reader(read_file, delimiter = ',')\n",
    "    next(csv_reader)\n",
    "    for row in csv_reader:\n",
    "        try:\n",
    "            new_row = [float(i) for i in row[2:]]\n",
    "        except ValueError:\n",
    "            continue\n",
    "        is_filter = filterBadData(new_row)\n",
    "        if not is_filter:\n",
    "            x_arr.append(new_row[:-1])\n",
    "            y_arr.append(convertLabel(new_row[-1]))\n",
    "    return x_arr, y_arr\n",
    "\n",
    "def filterBadData(row):\n",
    "    is_bad = False\n",
    "    if row[-1] not in (2,4):\n",
    "        is_bad = True\n",
    "    for r in row[:-1]:\n",
    "        if r>10:\n",
    "            is_bad = True\n",
    "    return is_bad \n",
    "\n",
    "def convertLabel(value):\n",
    "    if value == 4: # malignant\n",
    "        return 0\n",
    "    elif value == 2: #benign\n",
    "        return 1\n",
    "\n",
    "\n",
    "file_name = 'breast-cancer-wisconsin.txt'\n",
    "x_arr, y_arr = readAndCleanData(file_name)\n"
   ]
  },
  {
   "cell_type": "code",
   "execution_count": 68,
   "metadata": {
    "scrolled": true
   },
   "outputs": [
    {
     "name": "stdout",
     "output_type": "stream",
     "text": [
      "Index(['Clump Thickness', 'Uniformity of Cell Size',\n",
      "       'Uniformity of Cell Shape', 'Marginal Adhesion',\n",
      "       'Single Epithelial Cell Size', 'Bare Nuclei', 'Bland Chromatin',\n",
      "       'Normal Nucleoli', 'Mitoses', 'Class'],\n",
      "      dtype='object')\n",
      "x-pca pass test\n"
     ]
    },
    {
     "data": {
      "image/png": "[encoded data removed]",
      "text/plain": [
       "<Figure size 432x288 with 1 Axes>"
      ]
     },
     "metadata": {
      "needs_background": "light"
     },
     "output_type": "display_data"
    }
   ],
   "source": [
    "from sklearn.preprocessing import StandardScaler \n",
    "from sklearn.decomposition import PCA\n",
    "from matplotlib import pyplot as plt\n",
    "\n",
    "\n",
    "print(df.columns[2:])\n",
    "\n",
    "def describeData(x_arr):\n",
    "    x_pandas = pd.DataFrame(x_arr)\n",
    "    # summarize dataset \n",
    "    display(x_pandas.describe())\n",
    "\n",
    "\n",
    "# get pca and visualize \n",
    "# standardize \n",
    "def genPCA(x_pandas):\n",
    "    x_trans = StandardScaler().fit_transform(x_pandas)\n",
    "    pca = PCA(n_components=2)\n",
    "    x_pca = pca.fit_transform(x_trans)\n",
    "    return x_pca\n",
    "\n",
    "\n",
    "assert len(x_pca) == len(y_arr)\n",
    "print('x-pca pass test')\n",
    "\n",
    "def splitPCA(x_pca):\n",
    "    # convert to arrays\n",
    "    pca_1 = []\n",
    "    pca_2 = []\n",
    "    for pca in x_pca:\n",
    "        pca_1.append(pca[0])\n",
    "        pca_2.append(pca[1])\n",
    "    return pca_1, pca_2\n",
    "\n",
    "\n",
    "def plotPCA(x_arr, y_arr):\n",
    "    colors =['r','g']\n",
    "    x_pandas = pd.DataFrame(x_arr)\n",
    "    x_pca = genPCA(x_pandas)\n",
    "    pca_1, pca_2 = splitPCA(x_pca)\n",
    "    # plot bene = green and malignant = red  \n",
    "    for x_val, lab in zip(x_pca, y_arr):\n",
    "        plt.scatter(x = x_val[0], y = x_val[1], c = colors[lab], label = lab)\n",
    "    plt.show()\n",
    "\n",
    "\n",
    "# Dataset seems generally linearly separable \n",
    "# with a couple of outliers. Features for malignant cancer seems to have a greater variance \n",
    "# then benevolent. If the goal is to maximize recall (reduce misidentifying malignant), \n",
    "plotPCA(x_arr, y_arr)\n"
   ]
  },
  {
   "cell_type": "code",
   "execution_count": 58,
   "metadata": {},
   "outputs": [
    {
     "name": "stdout",
     "output_type": "stream",
     "text": [
      "1\n",
      "0\n",
      "[10.0, 10.0, 10.0, 10.0, 10.0, 10.0, 4.0, 10.0, 10.0]\n",
      "[1.0, 1.0, 1.0, 1.0, 1.0, 1.0, 1.0, 1.0, 1.0]\n",
      "label count\n",
      "  mal:\n",
      "15162\n",
      "  ben:\n",
      "442\n",
      "num of obs\n",
      "15604\n",
      "num of predictors\n",
      "15604\n"
     ]
    }
   ],
   "source": [
    "# dAta exploration \n",
    "\n",
    "\n",
    "def summarizeDataset(x_arr, y_arr):\n",
    "    print(max(y_arr))\n",
    "    print(min(y_arr))\n",
    "    print(max(x_arr))\n",
    "    print(min(x_arr))\n",
    "    print('label count')\n",
    "    print('  mal:')\n",
    "    print(y_arr.count(0)) \n",
    "    print('  ben:')\n",
    "    print(y_arr.count(1))\n",
    "    print('num of obs')\n",
    "    print(len(y_arr))\n",
    "    print('num of predictors')\n",
    "    print(len(x_arr))\n",
    "\n",
    "    \n",
    "summarizeDataset(x_arr, y_arr)"
   ]
  },
  {
   "cell_type": "code",
   "execution_count": 1,
   "metadata": {},
   "outputs": [
    {
     "ename": "NameError",
     "evalue": "name 'y_arr' is not defined",
     "output_type": "error",
     "traceback": [
      "\u001b[0;31m---------------------------------------------------------------------------\u001b[0m",
      "\u001b[0;31mNameError\u001b[0m                                 Traceback (most recent call last)",
      "\u001b[0;32m<ipython-input-1-7fb1ec4e7b84>\u001b[0m in \u001b[0;36m<module>\u001b[0;34m\u001b[0m\n\u001b[1;32m     14\u001b[0m \u001b[0;34m\u001b[0m\u001b[0m\n\u001b[1;32m     15\u001b[0m \u001b[0;34m\u001b[0m\u001b[0m\n\u001b[0;32m---> 16\u001b[0;31m \u001b[0my_train\u001b[0m\u001b[0;34m,\u001b[0m \u001b[0my_test\u001b[0m\u001b[0;34m,\u001b[0m \u001b[0mx_train\u001b[0m\u001b[0;34m,\u001b[0m \u001b[0mx_test\u001b[0m \u001b[0;34m=\u001b[0m \u001b[0msplitTrainTestData\u001b[0m\u001b[0;34m(\u001b[0m\u001b[0my_arr\u001b[0m\u001b[0;34m,\u001b[0m \u001b[0mx_arr\u001b[0m\u001b[0;34m)\u001b[0m\u001b[0;34m\u001b[0m\u001b[0;34m\u001b[0m\u001b[0m\n\u001b[0m\u001b[1;32m     17\u001b[0m \u001b[0mx_train\u001b[0m\u001b[0;34m.\u001b[0m\u001b[0mhead\u001b[0m\u001b[0;34m(\u001b[0m\u001b[0;36m0\u001b[0m\u001b[0;34m)\u001b[0m\u001b[0;34m\u001b[0m\u001b[0;34m\u001b[0m\u001b[0m\n",
      "\u001b[0;31mNameError\u001b[0m: name 'y_arr' is not defined"
     ]
    }
   ],
   "source": [
    "# Logistic Model \n",
    "# with SKLearn \n",
    "\n",
    "from sklearn.linear_model import LogisticRegression as logistic\n",
    "from sklearn.model_selection import train_test_split\n",
    "from sklearn.metrics import precision_score as precision\n",
    "from sklearn.metrics import recall_score as recall\n",
    "\n",
    "def splitTrainTestData(y_arr, x_arr,  test_size = 0.2):\n",
    "    # split all indices into training and test\n",
    "    # with a sample size\n",
    "    y_train, y_test, x_train, x_test = train_test_split(y_arr, x_arr, test_size = test_size)\n",
    "    return y_train, y_test, x_train, x_test\n",
    "\n",
    "\n",
    "y_train, y_test, x_train, x_test = splitTrainTestData(y_arr, x_arr)    "
   ]
  },
  {
   "cell_type": "code",
   "execution_count": 70,
   "metadata": {},
   "outputs": [
    {
     "name": "stdout",
     "output_type": "stream",
     "text": [
      "precision: 0.965909\n",
      "recall: 0.955056\n",
      "logistic\n",
      "mal\n",
      "3033\n",
      "ben\n",
      "88\n"
     ]
    },
    {
     "data": {
      "image/png": "[encoded data removed]",
      "text/plain": [
       "<Figure size 432x288 with 1 Axes>"
      ]
     },
     "metadata": {
      "needs_background": "light"
     },
     "output_type": "display_data"
    },
    {
     "data": {
      "image/png": "[encoded data removed]",
      "text/plain": [
       "<Figure size 432x288 with 1 Axes>"
      ]
     },
     "metadata": {
      "needs_background": "light"
     },
     "output_type": "display_data"
    }
   ],
   "source": [
    "# Logictic Model\n",
    "model_log = logistic(solver = 'lbfgs')\n",
    "\n",
    "def predictModel(model, x_train, y_train, x_test, y_test):\n",
    "    model.fit(x_train, y_train)\n",
    "    y_pred = model.predict(x_test)\n",
    "    test_precision = precision(y_test, y_pred)\n",
    "    test_recall = recall(y_test, y_pred)\n",
    "    print('precision: %f' % test_precision)\n",
    "    print('recall: %f' % test_recall)\n",
    "    return model, y_pred\n",
    "    \n",
    "def countPredictionCategory(y_pred):\n",
    "    print('mal')\n",
    "    print(np.sum(y_pred==0))\n",
    "    print('ben')\n",
    "    print(np.sum(y_pred==1))\n",
    "\n",
    "# performs relatively well with logistic model\n",
    "# logistic model, automatically assumes prediction ==1 if prob >0.5 in a 2 class model\n",
    "# might be interesting to tailor the threshold for a model\n",
    "model, log_pred = predictModel(model_log, x_train, y_train, x_test, y_test)\n",
    "print('logistic')\n",
    "countPredictionCategory(log_pred)\n",
    "\n",
    "plotPCA(x_test, log_pred)\n",
    "plotPCA(x_test, y_test)"
   ]
  },
  {
   "cell_type": "code",
   "execution_count": 71,
   "metadata": {},
   "outputs": [
    {
     "name": "stdout",
     "output_type": "stream",
     "text": [
      "precision: 0.965909\n",
      "recall: 0.955056\n",
      "mal\n",
      "3033\n",
      "ben\n",
      "88\n"
     ]
    },
    {
     "data": {
      "image/png": "[encoded data removed]",
      "text/plain": [
       "<Figure size 432x288 with 1 Axes>"
      ]
     },
     "metadata": {
      "needs_background": "light"
     },
     "output_type": "display_data"
    }
   ],
   "source": [
    " from sklearn import svm\n",
    "\n",
    "# SVM Model  with linear kernel, performs the same as logistic regression \n",
    "model_svm = svm.SVC(kernel = 'linear')\n",
    "\n",
    "model, svm_pred = predictModel(model_svm, x_train, y_train, x_test, y_test)\n",
    "countPredictionCategory(svm_pred)\n",
    "\n",
    "plotPCA(x_test, svm_pred)\n"
   ]
  },
  {
   "cell_type": "code",
   "execution_count": 128,
   "metadata": {},
   "outputs": [
    {
     "name": "stdout",
     "output_type": "stream",
     "text": [
      "precision: 0.976744\n",
      "recall: 0.943820\n",
      "mal\n",
      "3035\n",
      "ben\n",
      "86\n"
     ]
    },
    {
     "data": {
      "image/png": "[encoded data removed]",
      "text/plain": [
       "<Figure size 432x288 with 1 Axes>"
      ]
     },
     "metadata": {
      "needs_background": "light"
     },
     "output_type": "display_data"
    }
   ],
   "source": [
    "# SVM Model  with  radial basis kernel, does not work as well. Lower recall of benevolent cancer, \n",
    "# also disadvantage that threshold cna't be set to \n",
    "model_svm = svm.SVC(kernel = 'rbf', gamma = .01)\n",
    "\n",
    "model, svm_pred = predictModel(model_svm, x_train, y_train, x_test, y_test)\n",
    "countPredictionCategory(svm_pred)\n",
    "plotPCA(x_test, svm_pred)\n"
   ]
  },
  {
   "cell_type": "code",
   "execution_count": 94,
   "metadata": {},
   "outputs": [
    {
     "name": "stdout",
     "output_type": "stream",
     "text": [
      "precision: 0.955056\n",
      "recall: 0.955056\n",
      "mal\n",
      "3032\n",
      "ben\n",
      "89\n"
     ]
    },
    {
     "data": {
      "image/png": "[encoded data removed]",
      "text/plain": [
       "<Figure size 432x288 with 1 Axes>"
      ]
     },
     "metadata": {
      "needs_background": "light"
     },
     "output_type": "display_data"
    },
    {
     "data": {
      "image/png": "[encoded data removed]",
      "text/plain": [
       "<Figure size 432x288 with 1 Axes>"
      ]
     },
     "metadata": {
      "needs_background": "light"
     },
     "output_type": "display_data"
    }
   ],
   "source": [
    "from sklearn import tree\n",
    "    \n",
    "# Decision Tree Model  \n",
    "# This one is the most aggressive at classifying benevolent, suffers from overfitting \n",
    "# we may want to use a random forest \n",
    "model_decision = tree.DecisionTreeClassifier(max_leaf_nodes=20, max_features = 9)\n",
    "model_decision, decision_pred = predictModel(model_decision, x_train, y_train, x_test, y_test)\n",
    "countPredictionCategory(decision_pred)\n",
    "plotPCA(x_test, decision_pred)\n",
    "plotPCA(x_test, y_test)\n"
   ]
  },
  {
   "cell_type": "code",
   "execution_count": 108,
   "metadata": {},
   "outputs": [
    {
     "name": "stdout",
     "output_type": "stream",
     "text": [
      "precision: 0.977273\n",
      "recall: 0.966292\n",
      "mal\n",
      "3033\n",
      "ben\n",
      "88\n"
     ]
    },
    {
     "data": {
      "image/png": "[encoded data removed]",
      "text/plain": [
       "<Figure size 432x288 with 1 Axes>"
      ]
     },
     "metadata": {
      "needs_background": "light"
     },
     "output_type": "display_data"
    }
   ],
   "source": [
    "from sklearn.ensemble import RandomForestClassifier \n",
    "    \n",
    "# Random Forest Classifier\n",
    "model_forest = RandomForestClassifier(max_depth = 10, n_estimators= 40)\n",
    "model_forest, forest_pred = predictModel(model_forest, x_train, y_train, x_test, y_test)\n",
    "countPredictionCategory(forest_pred)\n",
    "plotPCA(x_test, forest_pred)\n",
    "# plotPCA(x_test, y_test)"
   ]
  },
  {
   "cell_type": "code",
   "execution_count": 126,
   "metadata": {},
   "outputs": [
    {
     "name": "stdout",
     "output_type": "stream",
     "text": [
      "precision: 0.977011\n",
      "recall: 0.955056\n",
      "mal\n",
      "3034\n",
      "ben\n",
      "87\n"
     ]
    },
    {
     "data": {
      "image/png": "[encoded data removed]",
      "text/plain": [
       "<Figure size 432x288 with 1 Axes>"
      ]
     },
     "metadata": {
      "needs_background": "light"
     },
     "output_type": "display_data"
    }
   ],
   "source": [
    "from sklearn.ensemble import BaggingClassifier\n",
    "from sklearn.ensemble import RandomForestClassifier \n",
    "    \n",
    "# Can we use bagging to further improve random forest further\n",
    "# doesn't seem to work that well in this case \n",
    "# we probably don't suffer as much from bias in the estimators \n",
    "model_bagging = BaggingClassifier(RandomForestClassifier(n_estimators = 10), max_samples = 0.5, max_features=0.5)\n",
    "model_bagging, bagging_pred = predictModel(model_bagging, x_train, y_train, x_test, y_test)\n",
    "countPredictionCategory(bagging_pred)\n",
    "plotPCA(x_test, bagging_pred)\n"
   ]
  },
  {
   "cell_type": "code",
   "execution_count": null,
   "metadata": {},
   "outputs": [],
   "source": [
    "from sklearn.ensemble import AdaBoostClassifier\n",
    "\n"
   ]
  },
  {
   "cell_type": "markdown",
   "metadata": {},
   "source": [
    "markdown"
   ]
  },
  {
   "cell_type": "code",
   "execution_count": null,
   "metadata": {},
   "outputs": [],
   "source": []
  }
 ],
 "metadata": {
  "kernelspec": {
   "display_name": "Python 3",
   "language": "python",
   "name": "python3"
  },
  "language_info": {
   "codemirror_mode": {
    "name": "ipython",
    "version": 3
   },
   "file_extension": ".py",
   "mimetype": "text/x-python",
   "name": "python",
   "nbconvert_exporter": "python",
   "pygments_lexer": "ipython3",
   "version": "3.7.2"
  }
 },
 "nbformat": 4,
 "nbformat_minor": 2
}
