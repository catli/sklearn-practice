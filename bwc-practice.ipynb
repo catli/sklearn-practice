{
 "cells": [
  {
   "cell_type": "code",
   "execution_count": 1,
   "metadata": {},
   "outputs": [],
   "source": [
    "import pandas as pd"
   ]
  },
  {
   "cell_type": "code",
   "execution_count": 12,
   "metadata": {},
   "outputs": [
    {
     "name": "stdout",
     "output_type": "stream",
     "text": [
      "    Index       ID  Clump Thickness Uniformity of Cell Size  \\\n",
      "0       0  1241035                7                       8   \n",
      "1       1  1107684                6                      10   \n",
      "2       2   691628                8                       6   \n",
      "3       3  1226612                7                       5   \n",
      "4       4  1142706                5                      10   \n",
      "5       5   601265               10                       4   \n",
      "6       6   378275               10                       9   \n",
      "7       7  1142706                5                      10   \n",
      "8       8   601265               10                       4   \n",
      "9       9  1226612                7                       5   \n",
      "10     10  1169049                7                       3   \n",
      "11     11   691628                8                       6   \n",
      "12     12  1111249               10                       6   \n",
      "13     13  1076352                3                       6   \n",
      "14     14  1112209                8                      10   \n",
      "15     15  1226612                7                       5   \n",
      "16     16  1112209                8                      10   \n",
      "17     17  1112209                8                      10   \n",
      "18     18  1107684                6                      10   \n",
      "19     19  1110524               10                       5   \n",
      "\n",
      "   Uniformity of Cell Shape Marginal Adhesion Single Epithelial Cell Size  \\\n",
      "0                         3                 7                           4   \n",
      "1                         5                 5                           4   \n",
      "2                         4                10                          10   \n",
      "3                         6                 3                           3   \n",
      "4                        10                10                           6   \n",
      "5                         4                 6                           2   \n",
      "6                         7                 3                           4   \n",
      "7                        10                10                           6   \n",
      "8                         4                 6                           2   \n",
      "9                         6                 3                           3   \n",
      "10                        4                 4                           3   \n",
      "11                        4                10                          10   \n",
      "12                        6                 3                           4   \n",
      "13                        4                10                           3   \n",
      "14                       10                 1                           3   \n",
      "15                        6                 3                           3   \n",
      "16                       10                 1                           3   \n",
      "17                       10                 1                           3   \n",
      "18                        5                 5                           4   \n",
      "19                        5                 6                           8   \n",
      "\n",
      "   Bare Nuclei Bland Chromatin Normal Nucleoli Mitoses Class  \n",
      "0            5               7               8       2     4  \n",
      "1           10               6              10       1     4  \n",
      "2            1               3               5       1     4  \n",
      "3            8               7               4       1     4  \n",
      "4           10               6               5       2     4  \n",
      "5           10               2               3       1     4  \n",
      "6            2               7               7       1     4  \n",
      "7           10               6               5       2     4  \n",
      "8           10               2               3       1     4  \n",
      "9            8               7               4       1     4  \n",
      "10           3               3               2       7     4  \n",
      "11           1               3               5       1     4  \n",
      "12           5               3               6       1     4  \n",
      "13           3               3               4       1     4  \n",
      "14           6               3               9       1     4  \n",
      "15           8               7               4       1     4  \n",
      "16           6               3               9       1     4  \n",
      "17           6               3               9       1     4  \n",
      "18          10               6              10       1     4  \n",
      "19           8               7               1       1     4  \n"
     ]
    },
    {
     "data": {
      "text/html": [
       "<div>\n",
       "<style scoped>\n",
       "    .dataframe tbody tr th:only-of-type {\n",
       "        vertical-align: middle;\n",
       "    }\n",
       "\n",
       "    .dataframe tbody tr th {\n",
       "        vertical-align: top;\n",
       "    }\n",
       "\n",
       "    .dataframe thead th {\n",
       "        text-align: right;\n",
       "    }\n",
       "</style>\n",
       "<table border=\"1\" class=\"dataframe\">\n",
       "  <thead>\n",
       "    <tr style=\"text-align: right;\">\n",
       "      <th></th>\n",
       "      <th>Index</th>\n",
       "      <th>ID</th>\n",
       "      <th>Clump Thickness</th>\n",
       "    </tr>\n",
       "  </thead>\n",
       "  <tbody>\n",
       "    <tr>\n",
       "      <th>count</th>\n",
       "      <td>15855.000000</td>\n",
       "      <td>1.585500e+04</td>\n",
       "      <td>15855.000000</td>\n",
       "    </tr>\n",
       "    <tr>\n",
       "      <th>mean</th>\n",
       "      <td>7927.000000</td>\n",
       "      <td>1.125972e+06</td>\n",
       "      <td>8.263198</td>\n",
       "    </tr>\n",
       "    <tr>\n",
       "      <th>std</th>\n",
       "      <td>4577.088594</td>\n",
       "      <td>9.957879e+05</td>\n",
       "      <td>7.393603</td>\n",
       "    </tr>\n",
       "    <tr>\n",
       "      <th>min</th>\n",
       "      <td>0.000000</td>\n",
       "      <td>6.163400e+04</td>\n",
       "      <td>1.000000</td>\n",
       "    </tr>\n",
       "    <tr>\n",
       "      <th>25%</th>\n",
       "      <td>3963.500000</td>\n",
       "      <td>1.076352e+06</td>\n",
       "      <td>7.000000</td>\n",
       "    </tr>\n",
       "    <tr>\n",
       "      <th>50%</th>\n",
       "      <td>7927.000000</td>\n",
       "      <td>1.111249e+06</td>\n",
       "      <td>8.000000</td>\n",
       "    </tr>\n",
       "    <tr>\n",
       "      <th>75%</th>\n",
       "      <td>11890.500000</td>\n",
       "      <td>1.198641e+06</td>\n",
       "      <td>10.000000</td>\n",
       "    </tr>\n",
       "    <tr>\n",
       "      <th>max</th>\n",
       "      <td>15854.000000</td>\n",
       "      <td>1.345435e+07</td>\n",
       "      <td>100.000000</td>\n",
       "    </tr>\n",
       "  </tbody>\n",
       "</table>\n",
       "</div>"
      ],
      "text/plain": [
       "              Index            ID  Clump Thickness\n",
       "count  15855.000000  1.585500e+04     15855.000000\n",
       "mean    7927.000000  1.125972e+06         8.263198\n",
       "std     4577.088594  9.957879e+05         7.393603\n",
       "min        0.000000  6.163400e+04         1.000000\n",
       "25%     3963.500000  1.076352e+06         7.000000\n",
       "50%     7927.000000  1.111249e+06         8.000000\n",
       "75%    11890.500000  1.198641e+06        10.000000\n",
       "max    15854.000000  1.345435e+07       100.000000"
      ]
     },
     "execution_count": 12,
     "metadata": {},
     "output_type": "execute_result"
    }
   ],
   "source": [
    "file_name = 'breast-cancer-wisconsin.txt'\n",
    "bcw = pd.read_csv(file_name)\n",
    "print(bcw.head(20))\n",
    "bcw.describe()"
   ]
  },
  {
   "cell_type": "code",
   "execution_count": 37,
   "metadata": {},
   "outputs": [
    {
     "data": {
      "text/html": [
       "<div>\n",
       "<style scoped>\n",
       "    .dataframe tbody tr th:only-of-type {\n",
       "        vertical-align: middle;\n",
       "    }\n",
       "\n",
       "    .dataframe tbody tr th {\n",
       "        vertical-align: top;\n",
       "    }\n",
       "\n",
       "    .dataframe thead th {\n",
       "        text-align: right;\n",
       "    }\n",
       "</style>\n",
       "<table border=\"1\" class=\"dataframe\">\n",
       "  <thead>\n",
       "    <tr style=\"text-align: right;\">\n",
       "      <th></th>\n",
       "      <th>Index</th>\n",
       "      <th>ID</th>\n",
       "      <th>Clump Thickness</th>\n",
       "      <th>Uniformity of Cell Size</th>\n",
       "      <th>Uniformity of Cell Shape</th>\n",
       "      <th>Marginal Adhesion</th>\n",
       "      <th>Single Epithelial Cell Size</th>\n",
       "      <th>Bare Nuclei</th>\n",
       "      <th>Bland Chromatin</th>\n",
       "      <th>Normal Nucleoli</th>\n",
       "      <th>Mitoses</th>\n",
       "      <th>Class</th>\n",
       "    </tr>\n",
       "  </thead>\n",
       "  <tbody>\n",
       "    <tr>\n",
       "      <th>0</th>\n",
       "      <td>0</td>\n",
       "      <td>1241035</td>\n",
       "      <td>7</td>\n",
       "      <td>8</td>\n",
       "      <td>3</td>\n",
       "      <td>7</td>\n",
       "      <td>4</td>\n",
       "      <td>5</td>\n",
       "      <td>7</td>\n",
       "      <td>8</td>\n",
       "      <td>2</td>\n",
       "      <td>4.0</td>\n",
       "    </tr>\n",
       "    <tr>\n",
       "      <th>1</th>\n",
       "      <td>1</td>\n",
       "      <td>1107684</td>\n",
       "      <td>6</td>\n",
       "      <td>10</td>\n",
       "      <td>5</td>\n",
       "      <td>5</td>\n",
       "      <td>4</td>\n",
       "      <td>10</td>\n",
       "      <td>6</td>\n",
       "      <td>10</td>\n",
       "      <td>1</td>\n",
       "      <td>4.0</td>\n",
       "    </tr>\n",
       "    <tr>\n",
       "      <th>2</th>\n",
       "      <td>2</td>\n",
       "      <td>691628</td>\n",
       "      <td>8</td>\n",
       "      <td>6</td>\n",
       "      <td>4</td>\n",
       "      <td>10</td>\n",
       "      <td>10</td>\n",
       "      <td>1</td>\n",
       "      <td>3</td>\n",
       "      <td>5</td>\n",
       "      <td>1</td>\n",
       "      <td>4.0</td>\n",
       "    </tr>\n",
       "    <tr>\n",
       "      <th>3</th>\n",
       "      <td>3</td>\n",
       "      <td>1226612</td>\n",
       "      <td>7</td>\n",
       "      <td>5</td>\n",
       "      <td>6</td>\n",
       "      <td>3</td>\n",
       "      <td>3</td>\n",
       "      <td>8</td>\n",
       "      <td>7</td>\n",
       "      <td>4</td>\n",
       "      <td>1</td>\n",
       "      <td>4.0</td>\n",
       "    </tr>\n",
       "    <tr>\n",
       "      <th>4</th>\n",
       "      <td>4</td>\n",
       "      <td>1142706</td>\n",
       "      <td>5</td>\n",
       "      <td>10</td>\n",
       "      <td>10</td>\n",
       "      <td>10</td>\n",
       "      <td>6</td>\n",
       "      <td>10</td>\n",
       "      <td>6</td>\n",
       "      <td>5</td>\n",
       "      <td>2</td>\n",
       "      <td>4.0</td>\n",
       "    </tr>\n",
       "  </tbody>\n",
       "</table>\n",
       "</div>"
      ],
      "text/plain": [
       "   Index       ID  Clump Thickness  Uniformity of Cell Size  \\\n",
       "0      0  1241035                7                        8   \n",
       "1      1  1107684                6                       10   \n",
       "2      2   691628                8                        6   \n",
       "3      3  1226612                7                        5   \n",
       "4      4  1142706                5                       10   \n",
       "\n",
       "   Uniformity of Cell Shape  Marginal Adhesion  Single Epithelial Cell Size  \\\n",
       "0                         3                  7                            4   \n",
       "1                         5                  5                            4   \n",
       "2                         4                 10                           10   \n",
       "3                         6                  3                            3   \n",
       "4                        10                 10                            6   \n",
       "\n",
       "   Bare Nuclei  Bland Chromatin  Normal Nucleoli  Mitoses  Class  \n",
       "0            5                7                8        2    4.0  \n",
       "1           10                6               10        1    4.0  \n",
       "2            1                3                5        1    4.0  \n",
       "3            8                7                4        1    4.0  \n",
       "4           10                6                5        2    4.0  "
      ]
     },
     "execution_count": 37,
     "metadata": {},
     "output_type": "execute_result"
    }
   ],
   "source": [
    "\n",
    "def filterNoIdea(data):\n",
    "    data = data.query('Class!=\"No Idea\"')\n",
    "    return data\n",
    "\n",
    "def convertInt(data, features):\n",
    "    for var in features:\n",
    "        data[var] = [setInt(val) for val in data[var]]\n",
    "    return data\n",
    "\n",
    "def setInt(val):\n",
    "    try:\n",
    "        return int(val)\n",
    "    except ValueError:\n",
    "        return 0\n",
    "\n",
    "bcw = filterNoIdea(bcw)\n",
    "bcw = convertInt(bcw, features)\n",
    "bcw.head()"
   ]
  },
  {
   "cell_type": "code",
   "execution_count": 59,
   "metadata": {},
   "outputs": [
    {
     "name": "stdout",
     "output_type": "stream",
     "text": [
      "0.9564175339009776\n"
     ]
    },
    {
     "name": "stderr",
     "output_type": "stream",
     "text": [
      "/Library/Frameworks/Python.framework/Versions/3.7/lib/python3.7/site-packages/sklearn/preprocessing/data.py:334: DataConversionWarning: Data with input dtype int64 were all converted to float64 by MinMaxScaler.\n",
      "  return self.partial_fit(X, y)\n",
      "/Library/Frameworks/Python.framework/Versions/3.7/lib/python3.7/site-packages/ipykernel_launcher.py:17: SettingWithCopyWarning: \n",
      "A value is trying to be set on a copy of a slice from a DataFrame.\n",
      "Try using .loc[row_indexer,col_indexer] = value instead\n",
      "\n",
      "See the caveats in the documentation: http://pandas.pydata.org/pandas-docs/stable/indexing.html#indexing-view-versus-copy\n"
     ]
    },
    {
     "name": "stdout",
     "output_type": "stream",
     "text": [
      "   Clump Thickness  Uniformity of Cell Size  Uniformity of Cell Shape  \\\n",
      "0         0.060606                     0.08                      0.03   \n",
      "1         0.050505                     0.10                      0.05   \n",
      "2         0.070707                     0.06                      0.04   \n",
      "3         0.060606                     0.05                      0.06   \n",
      "4         0.040404                     0.10                      0.10   \n",
      "\n",
      "   Marginal Adhesion  Single Epithelial Cell Size  Bare Nuclei  \\\n",
      "0               0.07                         0.04         0.05   \n",
      "1               0.05                         0.04         0.10   \n",
      "2               0.10                         0.10         0.01   \n",
      "3               0.03                         0.03         0.08   \n",
      "4               0.10                         0.06         0.10   \n",
      "\n",
      "   Bland Chromatin  Normal Nucleoli   Mitoses  \n",
      "0         0.100000             0.08  0.028571  \n",
      "1         0.085714             0.10  0.014286  \n",
      "2         0.042857             0.05  0.014286  \n",
      "3         0.100000             0.04  0.014286  \n",
      "4         0.085714             0.05  0.028571  \n"
     ]
    },
    {
     "name": "stderr",
     "output_type": "stream",
     "text": [
      "/Library/Frameworks/Python.framework/Versions/3.7/lib/python3.7/site-packages/pandas/core/indexing.py:543: SettingWithCopyWarning: \n",
      "A value is trying to be set on a copy of a slice from a DataFrame.\n",
      "Try using .loc[row_indexer,col_indexer] = value instead\n",
      "\n",
      "See the caveats in the documentation: http://pandas.pydata.org/pandas-docs/stable/indexing.html#indexing-view-versus-copy\n",
      "  self.obj[item] = s\n"
     ]
    }
   ],
   "source": [
    "from sklearn.decomposition import PCA\n",
    "import matplotlib.pyplot as plt\n",
    "import numpy as np\n",
    "from sklearn.preprocessing import MinMaxScaler\n",
    "\n",
    "features = ['Clump Thickness', 'Uniformity of Cell Size','Uniformity of Cell Shape','Marginal Adhesion','Single Epithelial Cell Size','Bare Nuclei','Bland Chromatin','Normal Nucleoli','Mitoses']\n",
    "label_var = 'Class'\n",
    "feature_data = bcw[features]\n",
    "label = bcw[label_var].apply(lambda x: 1 if x==4 else 0)\n",
    "\n",
    "print(np.mean(label))\n",
    "feature_data.describe()\n",
    "\n",
    "def scaleData(data, features):\n",
    "    scaler = MinMaxScaler()\n",
    "    scaler.fit(data[features])\n",
    "    data[features] = scaler.transform(data[features])\n",
    "    return data\n",
    "\n",
    "    \n",
    "scaled_data = scaleData(feature_data, features)\n",
    "print(scaled_data.head())"
   ]
  },
  {
   "cell_type": "code",
   "execution_count": 60,
   "metadata": {},
   "outputs": [
    {
     "data": {
      "image/png": "[encoded data removed]",
      "text/plain": [
       "<Figure size 432x288 with 1 Axes>"
      ]
     },
     "metadata": {
      "needs_background": "light"
     },
     "output_type": "display_data"
    }
   ],
   "source": [
    "\n",
    "def genPCA(data):\n",
    "    pca = PCA(n_components=2)\n",
    "    scaled_pca = pca.fit_transform(data)\n",
    "    return scaled_pca\n",
    "\n",
    "def visualizePCA(pca_data, label):\n",
    "    plt.scatter(x = pca_data[:,0], y = pca_data[:,1], c = label )\n",
    "    plt.show()\n",
    "\n",
    "    \n",
    "scaled_pca = genPCA(scaled_data)\n",
    "visualizePCA(pca_data, label)\n",
    "\n"
   ]
  },
  {
   "cell_type": "code",
   "execution_count": 66,
   "metadata": {},
   "outputs": [
    {
     "name": "stdout",
     "output_type": "stream",
     "text": [
      "train size equal\n",
      "test size equal\n",
      "0.9564017660044151\n",
      "0.956480605487228\n"
     ]
    }
   ],
   "source": [
    "from sklearn.model_selection import train_test_split\n",
    "\n",
    "\n",
    "x_train, x_test, y_train, y_test = train_test_split(scaled_data, label, test_size = 0.2, stratify = label)\n",
    "\n",
    "assert len(x_train)==len(y_train)\n",
    "print('train size equal')\n",
    "assert len(x_test)==len(y_test)\n",
    "print('test size equal')\n",
    "print(np.mean(y_train))\n",
    "print(np.mean(y_test))"
   ]
  },
  {
   "cell_type": "code",
   "execution_count": 89,
   "metadata": {},
   "outputs": [
    {
     "name": "stderr",
     "output_type": "stream",
     "text": [
      "/Library/Frameworks/Python.framework/Versions/3.7/lib/python3.7/site-packages/sklearn/linear_model/logistic.py:433: FutureWarning: Default solver will be changed to 'lbfgs' in 0.22. Specify a solver to silence this warning.\n",
      "  FutureWarning)\n",
      "/Library/Frameworks/Python.framework/Versions/3.7/lib/python3.7/site-packages/sklearn/svm/base.py:196: FutureWarning: The default value of gamma will change from 'auto' to 'scale' in version 0.22 to account better for unscaled features. Set gamma explicitly to 'auto' or 'scale' to avoid this warning.\n",
      "  \"avoid this warning.\", FutureWarning)\n"
     ]
    },
    {
     "name": "stdout",
     "output_type": "stream",
     "text": [
      "LogisticRegression(C=1.0, class_weight=None, dual=False, fit_intercept=True,\n",
      "          intercept_scaling=1, max_iter=100, multi_class='warn',\n",
      "          n_jobs=None, penalty='l2', random_state=None, solver='warn',\n",
      "          tol=0.0001, verbose=0, warm_start=False)\n",
      "{'precision': 0.9631629088599556, 'recall': 1.0, 'accuracy': 0.9634184799747714}\n",
      "SVC(C=1.0, cache_size=200, class_weight=None, coef0=0.0,\n",
      "  decision_function_shape='ovr', degree=3, gamma='auto_deprecated',\n",
      "  kernel='rbf', max_iter=-1, probability=False, random_state=None,\n",
      "  shrinking=True, tol=0.001, verbose=False)\n",
      "{'precision': 0.9643879173290938, 'recall': 1.0, 'accuracy': 0.9646799116997793}\n",
      "RandomForestClassifier(bootstrap=True, class_weight=None, criterion='gini',\n",
      "            max_depth=None, max_features='auto', max_leaf_nodes=None,\n",
      "            min_impurity_decrease=0.0, min_impurity_split=None,\n",
      "            min_samples_leaf=1, min_samples_split=2,\n",
      "            min_weight_fraction_leaf=0.0, n_estimators=10, n_jobs=None,\n",
      "            oob_score=False, random_state=None, verbose=0,\n",
      "            warm_start=False)\n",
      "{'precision': 0.9990112063282794, 'recall': 0.9993405868776789, 'accuracy': 0.9984232103437402}\n"
     ]
    },
    {
     "name": "stderr",
     "output_type": "stream",
     "text": [
      "/Library/Frameworks/Python.framework/Versions/3.7/lib/python3.7/site-packages/sklearn/ensemble/forest.py:246: FutureWarning: The default value of n_estimators will change from 10 in version 0.20 to 100 in 0.22.\n",
      "  \"10 in version 0.20 to 100 in 0.22.\", FutureWarning)\n"
     ]
    },
    {
     "name": "stdout",
     "output_type": "stream",
     "text": [
      "AdaBoostClassifier(algorithm='SAMME.R', base_estimator=None,\n",
      "          learning_rate=1.0, n_estimators=50, random_state=None)\n",
      "{'precision': 0.999010227647641, 'recall': 0.9983514671941972, 'accuracy': 0.9974771365499843}\n"
     ]
    }
   ],
   "source": [
    "from sklearn.linear_model import LogisticRegression \n",
    "from sklearn.svm import SVC \n",
    "from sklearn.ensemble import RandomForestClassifier, AdaBoostClassifier\n",
    "from sklearn.metrics import precision_score, recall_score, accuracy_score, f1_score\n",
    "\n",
    "\n",
    "\n",
    "def trainEvaluateModel(model, x_train, x_test, y_train, y_test):\n",
    "    res = {}\n",
    "    model.fit(x_train, y_train)\n",
    "    y_pred = model.predict(x_test)\n",
    "    res['precision'] = precision_score(y_test, y_pred)\n",
    "    res['recall'] = recall_score(y_test, y_pred)\n",
    "    res['accuracy'] = accuracy_score(y_test, y_pred)\n",
    "    print(model)\n",
    "    print(res)\n",
    "    return y_pred\n",
    "    \n",
    "    \n",
    "    \n",
    "logistic = LogisticRegression()    \n",
    "y_pred_log = trainEvaluateModel(logistic, x_train, x_test, y_train, y_test)\n",
    "svm = SVC()    \n",
    "y_pred_svm = trainEvaluateModel(svm, x_train, x_test, y_train, y_test)\n",
    "forest = RandomForestClassifier()  \n",
    "y_pred_forest = trainEvaluateModel(forest, x_train, x_test, y_train, y_test)\n",
    "boost = AdaBoostClassifier()  \n",
    "y_pred_boost = trainEvaluateModel(boost, x_train, x_test, y_train, y_test)\n",
    "\n",
    "\n"
   ]
  },
  {
   "cell_type": "code",
   "execution_count": 97,
   "metadata": {},
   "outputs": [
    {
     "data": {
      "image/png": "[encoded data removed]",
      "text/plain": [
       "<Figure size 432x288 with 1 Axes>"
      ]
     },
     "metadata": {
      "needs_background": "light"
     },
     "output_type": "display_data"
    }
   ],
   "source": [
    "pca_test = genPCA(x_test)\n",
    "\n",
    "visualizePCA(pca_test, y_pred_log)\n"
   ]
  },
  {
   "cell_type": "code",
   "execution_count": 94,
   "metadata": {},
   "outputs": [
    {
     "data": {
      "image/png": "[encoded data removed]",
      "text/plain": [
       "<Figure size 432x288 with 1 Axes>"
      ]
     },
     "metadata": {
      "needs_background": "light"
     },
     "output_type": "display_data"
    }
   ],
   "source": [
    "visualizePCA(pca_test, y_test)\n"
   ]
  }
 ],
 "metadata": {
  "kernelspec": {
   "display_name": "Python 3",
   "language": "python",
   "name": "python3"
  },
  "language_info": {
   "codemirror_mode": {
    "name": "ipython",
    "version": 3
   },
   "file_extension": ".py",
   "mimetype": "text/x-python",
   "name": "python",
   "nbconvert_exporter": "python",
   "pygments_lexer": "ipython3",
   "version": "3.7.2"
  }
 },
 "nbformat": 4,
 "nbformat_minor": 2
}
