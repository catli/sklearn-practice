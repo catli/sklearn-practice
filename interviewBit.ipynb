{
 "cells": [
  {
   "cell_type": "code",
   "execution_count": 153,
   "metadata": {},
   "outputs": [],
   "source": [
    "import numpy as np\n",
    "from collections import deque\n",
    "\n",
    "\n",
    "# Definition for a  binary tree node\n",
    "class TreeNode:\n",
    "    def __init__(self, x):\n",
    "        self.val = x\n",
    "        self.left = None\n",
    "        self.right = None\n",
    "\n",
    "\n",
    "class Solution:\n",
    "    # @param A : root node of tree\n",
    "    # @param B : integer\n",
    "    # @return an integer\n",
    "    def maxSubArray(self, A):\n",
    "        i = 0 \n",
    "        j = 0\n",
    "        if len(A)==0:\n",
    "            return 0\n",
    "        max_sum = A[0] # init max\n",
    "        while j<len(A):\n",
    "            new_sum = sum(A[i:j+1])\n",
    "            if new_sum<0:\n",
    "                j+=1\n",
    "                i = j\n",
    "            else:\n",
    "                j+=1\n",
    "            max_sum = max(new_sum, max_sum)\n",
    "        return max_sum\n",
    "# [1,2,3,4,5]\n",
    "# ctp {2:1, 1:3, 3:5}\n",
    "# ptc {1:2, 3:1, 4:5, 5:3}\n",
    "\n",
    "# stack   comp    dep\n",
    "# [4]       4     5\n",
    "# [5]                 \n",
    "\n"
   ]
  },
  {
   "cell_type": "code",
   "execution_count": 155,
   "metadata": {},
   "outputs": [
    {
     "name": "stdout",
     "output_type": "stream",
     "text": [
      "6\n"
     ]
    }
   ],
   "source": [
    "A = [-2,1,-3,4,-1,2,1,-5,4]\n",
    "# B = [ 1, 3, 4, 5 ]\n",
    "# C = [ 2, 1, 5, 3 ]\n",
    "\n",
    "node = TreeNode(1)\n",
    "sol = Solution()\n",
    "output = sol.maxSubArray(A)\n",
    "print(output)\n",
    "# 1,2,2,2,3,4,5\n",
    "# i       m   j\n",
    "# i   m j\n",
    "#     i j/m         \n",
    "\n"
   ]
  },
  {
   "cell_type": "code",
   "execution_count": 152,
   "metadata": {},
   "outputs": [
    {
     "name": "stdout",
     "output_type": "stream",
     "text": [
      "<re.Match object; span=(0, 1), match='0'>\n"
     ]
    },
    {
     "data": {
      "text/plain": [
       "'edcbA'"
      ]
     },
     "execution_count": 152,
     "metadata": {},
     "output_type": "execute_result"
    }
   ],
   "source": [
    "import re\n",
    "print(re.match('([0-9])', '0'))\n",
    "a = 'Abcde'\n",
    "a[::-1]"
   ]
  }
 ],
 "metadata": {
  "kernelspec": {
   "display_name": "Python 3",
   "language": "python",
   "name": "python3"
  },
  "language_info": {
   "codemirror_mode": {
    "name": "ipython",
    "version": 3
   },
   "file_extension": ".py",
   "mimetype": "text/x-python",
   "name": "python",
   "nbconvert_exporter": "python",
   "pygments_lexer": "ipython3",
   "version": "3.7.2"
  }
 },
 "nbformat": 4,
 "nbformat_minor": 2
}
