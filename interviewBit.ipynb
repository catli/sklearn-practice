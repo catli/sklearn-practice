{
 "cells": [
  {
   "cell_type": "code",
   "execution_count": 153,
   "metadata": {},
   "outputs": [],
   "source": []
  },
  {
   "cell_type": "code",
   "execution_count": 98,
   "metadata": {},
   "outputs": [],
   "source": [
    "import pandas as pd\n",
    "import numpy as np\n",
    "\n"
   ]
  },
  {
   "cell_type": "code",
   "execution_count": 99,
   "metadata": {},
   "outputs": [
    {
     "name": "stdout",
     "output_type": "stream",
     "text": [
      "   feature1  feature2  centroids\n",
      "1       1.0     0.300          0\n",
      "2       2.2     0.014          1\n",
      "3       0.1     0.250          0\n",
      "4       1.9     0.010          1\n"
     ]
    }
   ],
   "source": [
    "# Create a forward prop, back prop and gradient descent\n",
    "# Using numpy and pandas \n",
    "\n"
   ]
  },
  {
   "cell_type": "code",
   "execution_count": 206,
   "metadata": {},
   "outputs": [
    {
     "name": "stdout",
     "output_type": "stream",
     "text": [
      "[[1, 2, 1], [2, 1], [3, 2, 1, 11], [2, 1, 11], [1, 11]]\n",
      "True\n"
     ]
    }
   ],
   "source": [
    "# Display the sorted output of a merge of any number of sorted arrays. Then do it again, more efficiently.  \n",
    "\n",
    "# Add two binary numbers (Input as a string)  \n",
    "# Print a binary tree by vertical level order\n",
    "# Standard rotated binary search question. You have a sorted array that has been shifted/cycled, perform a search on it  \n",
    "# design a system to detect homeworking copying, which means input two strings and a integer K, if there is a common substring of them have length larger than K, return true, else return false.\n",
    "\n",
    "\n",
    "# Leetcode\n",
    "###########\n",
    "# Median of Two Sorted Arrays\n",
    "# Add Two Numbers \n",
    "# LRU Cache \n",
    "#  Longest Palindromic Substring\n",
    "# Longest Substring Without Repeating Characters\n",
    "# 3sum\n",
    "# Merge Intervals \n",
    "\n",
    "\n",
    "\n",
    "# [TODO]\n",
    "# Combination Sums \n",
    "# Copy List with Random Pointer \n",
    "# Merge Two Sorted Lists"
   ]
  },
  {
   "cell_type": "code",
   "execution_count": 109,
   "metadata": {},
   "outputs": [
    {
     "name": "stdout",
     "output_type": "stream",
     "text": [
      "[1, 3, 4, 0, 2]\n",
      "[1, 1, 2, 3, 5]\n"
     ]
    }
   ],
   "source": [
    "A= [3, 1, 5, 1, 2]\n",
    "sorted_A = sorted(enumerate(A), key = lambda x: x[1])\n",
    "print([x[0] for x in sorted_A])\n",
    "print([x[1] for x in sorted_A])"
   ]
  },
  {
   "cell_type": "code",
   "execution_count": 100,
   "metadata": {},
   "outputs": [
    {
     "name": "stdout",
     "output_type": "stream",
     "text": [
      "64\n"
     ]
    }
   ],
   "source": [
    "def longestValidParentheses(A):\n",
    "    open_parans = 0\n",
    "    max_len = 0\n",
    "    res = 0\n",
    "    last_res = 0\n",
    "\n",
    "    for paran in A:\n",
    "        if paran == '(':\n",
    "            open_parans+=1\n",
    "        elif paran == ')':\n",
    "            if open_parans==0:\n",
    "                res = 0\n",
    "                last_res = 0\n",
    "            elif open_parans>0:\n",
    "                open_parans-=1\n",
    "                res+=2\n",
    "                if open_parans == 0:\n",
    "                    last_res = last_res + res\n",
    "                    res = 0\n",
    "                max_len = max(max_len, res, last_res)\n",
    "    return max_len \n",
    "\n",
    "A = \")())) (())((())) ))) ()) () ((( ((())())((()())(())((((())))())((()()))(()(((()()(()((()()))(())())) (((\"\n",
    "print(longestValidParentheses(A))"
   ]
  },
  {
   "cell_type": "code",
   "execution_count": 128,
   "metadata": {},
   "outputs": [
    {
     "name": "stdout",
     "output_type": "stream",
     "text": [
      "{0: 0, 2: 0}\n",
      "{0: 1, 2: 0}\n",
      "{0: 1, 2: 1}\n",
      "{0: 1, 2: 1, 3: 1}\n",
      "{0: 1, 2: 1, 3: 1, 4: 1}\n",
      "{0: 1, 2: 1, 3: 1, 4: 1, 5: 1}\n"
     ]
    },
    {
     "data": {
      "text/plain": [
       "6"
      ]
     },
     "execution_count": 128,
     "metadata": {},
     "output_type": "execute_result"
    }
   ],
   "source": [
    "#  Combination Sum\n",
    "# Given a set of numbers (no duplicates )\n",
    "# Find all combinations that add up to target sum \n",
    "\n",
    "# [2,3,6,7], target = 7\n",
    "# [1,2,3,5,10] target = 8\n",
    "#  [1,2,5], [3,5]\n",
    "\n",
    "# iter through each value less than 8\n",
    "# recursively find the diff from that value to 8\n",
    "# target sum = 8, [5,3,2,1]\n",
    "#         choose 5, target sum 3 [1,2,3]\n",
    "#               choose 3, target sum 0 -> store [3,5,8]\n",
    "#               choose 2, target sum 1 -> []\n",
    "\n",
    "\n",
    "\n",
    "def chooseTargetComb(arr, target):\n",
    "    arr = sorted(arr)\n",
    "    \n"
   ]
  },
  {
   "cell_type": "code",
   "execution_count": 152,
   "metadata": {},
   "outputs": [
    {
     "name": "stdout",
     "output_type": "stream",
     "text": [
      "<re.Match object; span=(0, 1), match='0'>\n"
     ]
    },
    {
     "data": {
      "text/plain": [
       "'edcbA'"
      ]
     },
     "execution_count": 152,
     "metadata": {},
     "output_type": "execute_result"
    }
   ],
   "source": [
    "# B = [ 1, 3, 4, 5 ]\n",
    "# C = [ 2, 1, 5, 3 ]\n",
    "\n",
    "node = TreeNode(1)\n",
    "sol = Solution()\n",
    "output = sol.maxSubArray(A)\n",
    "print(output)\n",
    "# 1,2,2,2,3,4,5\n",
    "# i       m   j\n",
    "# i   m j\n",
    "#     i j/m         \n",
    "\n"
   ]
  }
 ],
 "metadata": {
  "kernelspec": {
   "display_name": "Python 3",
   "language": "python",
   "name": "python3"
  },
  "language_info": {
   "codemirror_mode": {
    "name": "ipython",
    "version": 3
   },
   "file_extension": ".py",
   "mimetype": "text/x-python",
   "name": "python",
   "nbconvert_exporter": "python",
   "pygments_lexer": "ipython3",
   "version": "3.7.2"
  }
 },
 "nbformat": 4,
 "nbformat_minor": 2
}
