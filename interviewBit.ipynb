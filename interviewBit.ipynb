{
 "cells": [
  {
   "cell_type": "code",
   "execution_count": 153,
   "metadata": {},
   "outputs": [],
   "source": []
  },
  {
   "cell_type": "code",
   "execution_count": 206,
   "metadata": {},
   "outputs": [
    {
     "name": "stdout",
     "output_type": "stream",
     "text": [
      "[[1, 2, 1], [2, 1], [3, 2, 1, 11], [2, 1, 11], [1, 11]]\n",
      "True\n"
     ]
    }
   ],
   "source": [
    "# Display the sorted output of a merge of any number of sorted arrays. Then do it again, more efficiently.  \n",
    "\n",
    "# Add two binary numbers (Input as a string)  \n",
    "# Print a binary tree by vertical level order\n",
    "# Standard rotated binary search question. You have a sorted array that has been shifted/cycled, perform a search on it  \n",
    "# design a system to detect homeworking copying, which means input two strings and a integer K, if there is a common substring of them have length larger than K, return true, else return false.\n",
    "\n",
    "\n",
    "# Leetcode\n",
    "###########\n",
    "# Median of Two Sorted Arrays\n",
    "# Add Two Numbers \n",
    "# LRU Cache \n",
    "#  Longest Palindromic Substring\n",
    "# Longest Substring Without Repeating Characters\n",
    "# 3sum\n",
    "# Merge Intervals \n",
    "\n",
    "\n",
    "\n",
    "# [TODO]\n",
    "# Copy List with Random Pointer \n",
    "# Merge Two Sorted Lists"
   ]
  },
  {
   "cell_type": "code",
   "execution_count": 155,
   "metadata": {},
   "outputs": [
    {
     "name": "stdout",
     "output_type": "stream",
     "text": [
      "6\n"
     ]
    }
   ],
   "source": [
    "# There are two sorted arrays nums1 and nums2 of size m and n respectively.\n",
    "# Find the median of the two sorted arrays. The overall run time complexity should be O(log (m+n)).\n",
    "# You may assume nums1 and nums2 cannot be both empty.\n",
    "\n",
    "# [1,2,4]\n",
    "# [3,4,5]\n",
    "# median = 4+4/2 = 4\n",
    "\n",
    "\n",
    "# O(m+n)\n",
    "# [1,2,4]\n",
    "# [3,4,5]\n",
    "# cur_m = m_i, m_j  = 0, 2 => 2\n",
    "# cur_n = n_i, n_j = 0, 2  => 4\n",
    "\n",
    "# cur_m = m_i, m_j  = 2, 2 => 4\n",
    "# cur_n = n_i, n_j = 0, 1  => 3\n",
    "\n",
    "# even take the average\n",
    "# cur_m = m_i, m_j  = 2, 2 => 4\n",
    "# cur_n = n_i, n_j = 1, 1  => 4\n",
    "\n",
    "\n",
    "# [1,2,3,4]\n",
    "# [5,6,7]\n",
    "\n",
    "# cur_m = m_i, m_j  = 0, 3 => 2\n",
    "# cur_n = n_i, n_j = 0, 1  => 6\n",
    "\n",
    "# cur_m = m_i, m_j  = 1, 3 (2) => 3\n",
    "# cur_n = n_i, n_j = 0, 1  => 5\n",
    "\n",
    "# cur_m = m_i, m_j  = 2, 3 (3) => 4\n",
    "# cur_n = n_i, n_j = 0, 0  => 5\n",
    "\n",
    "# I will take the values [3,4,5] and find median \n",
    "\n",
    "\n",
    "\n"
   ]
  },
  {
   "cell_type": "code",
   "execution_count": 128,
   "metadata": {},
   "outputs": [
    {
     "name": "stdout",
     "output_type": "stream",
     "text": [
      "{0: 0, 2: 0}\n",
      "{0: 1, 2: 0}\n",
      "{0: 1, 2: 1}\n",
      "{0: 1, 2: 1, 3: 1}\n",
      "{0: 1, 2: 1, 3: 1, 4: 1}\n",
      "{0: 1, 2: 1, 3: 1, 4: 1, 5: 1}\n"
     ]
    },
    {
     "data": {
      "text/plain": [
       "6"
      ]
     },
     "execution_count": 128,
     "metadata": {},
     "output_type": "execute_result"
    }
   ],
   "source": [
    "# Given a non-empty array of integers, every element appears three times except for one, \n",
    "# which appears exactly once. Find that single one.\n",
    "# [2,2,3]\n",
    "#  3\n",
    "# [1,2,4,1,2]\n",
    "#  4\n",
    "\n",
    "# 2 -> 2  -> 3 \n",
    "\n",
    "\n"
   ]
  },
  {
   "cell_type": "code",
   "execution_count": 152,
   "metadata": {},
   "outputs": [
    {
     "name": "stdout",
     "output_type": "stream",
     "text": [
      "<re.Match object; span=(0, 1), match='0'>\n"
     ]
    },
    {
     "data": {
      "text/plain": [
       "'edcbA'"
      ]
     },
     "execution_count": 152,
     "metadata": {},
     "output_type": "execute_result"
    }
   ],
   "source": [
    "# B = [ 1, 3, 4, 5 ]\n",
    "# C = [ 2, 1, 5, 3 ]\n",
    "\n",
    "node = TreeNode(1)\n",
    "sol = Solution()\n",
    "output = sol.maxSubArray(A)\n",
    "print(output)\n",
    "# 1,2,2,2,3,4,5\n",
    "# i       m   j\n",
    "# i   m j\n",
    "#     i j/m         \n",
    "\n"
   ]
  }
 ],
 "metadata": {
  "kernelspec": {
   "display_name": "Python 3",
   "language": "python",
   "name": "python3"
  },
  "language_info": {
   "codemirror_mode": {
    "name": "ipython",
    "version": 3
   },
   "file_extension": ".py",
   "mimetype": "text/x-python",
   "name": "python",
   "nbconvert_exporter": "python",
   "pygments_lexer": "ipython3",
   "version": "3.7.2"
  }
 },
 "nbformat": 4,
 "nbformat_minor": 2
}
