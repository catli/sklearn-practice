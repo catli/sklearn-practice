{
 "cells": [
  {
   "cell_type": "code",
   "execution_count": 99,
   "metadata": {},
   "outputs": [],
   "source": [
    "class ListNode:\n",
    "   def __init__(self, x):\n",
    "       self.val = x\n",
    "       self.next = None\n",
    "\n",
    "class Solution:\n",
    "    # @param A : tuple of integers\n",
    "    # @param B : integer\n",
    "    # @return a list of integers\n",
    "    def searchRange(self, A, B):\n",
    "        match_ind = [-1,-1]\n",
    "        alen = len(A)\n",
    "        n = alen//2 \n",
    "        \n",
    "        while n>0:\n",
    "            print(n)\n",
    "            if B < A[n]:\n",
    "                n = n//2 # if B is smaller than current point, index to half way point\n",
    "            elif B > A[n]:\n",
    "                n+= (alen-n+1)//2  # if B is greater, index to half way from current to end\n",
    "            elif B == A[n]: # if match\n",
    "                min_match = True\n",
    "                max_match = True \n",
    "                min_ind = n\n",
    "                max_ind = n\n",
    "                while min_match or max_match:\n",
    "                    if A[min_ind] == B:\n",
    "                        match_ind[0] = min_ind\n",
    "                    else:\n",
    "                        min_match = False\n",
    "                    if A[max_ind] == B:\n",
    "                        match_ind[1] = max_ind\n",
    "                    else:\n",
    "                        max_match = False\n",
    "                        \n",
    "                    min_ind-=1\n",
    "                    max_ind+=1\n",
    "                    min_ind = max(min_ind, 0)\n",
    "                    max_ind = min(max_ind, alen-1)\n",
    "                    if n==0:\n",
    "                        min_match = False\n",
    "                    if n==(alen-1):\n",
    "                        max_match = False\n",
    "                break\n",
    "            if n==0 or n==(alen-1):\n",
    "                break\n",
    "        return match_ind\n",
    "    \n",
    "# fnode = 1, snode = 9, sum = 10 => comb 0, remainder 1\n",
    "# fnode = _, snode = 9, sum = 10 => comb 0, remainder 1\n",
    "# fnode = _, snode = 9, sum = 10 => comb 0, remainder 1\n",
    "# fnode = _, snode = _, sum = 1 => comb 0, remainder 1\n"
   ]
  },
  {
   "cell_type": "code",
   "execution_count": null,
   "metadata": {},
   "outputs": [
    {
     "name": "stdout",
     "output_type": "stream",
     "text": [
      "134\n",
      "67\n",
      "101\n",
      "118\n"
     ]
    }
   ],
   "source": [
    "\n",
    "A = [ 1, 1, 1, 1, 1, 1, 1, 1, 1, 1, 1, 1, 1, 1, 2, 2, 2, 2, 2, 2, 2, 2, 2, 2, 2, 3, 3, 3, 3, 3, 3, 3, 3, 3, 3, 3, 3, 3, 3, 3, 3, 3, 3, 4, 4, 4, 4, 4, 4, 4, 4, 4, 4, 4, 5, 5, 5, 5, 5, 5, 5, 5, 5, 5, 5, 5, 6, 6, 6, 6, 6, 6, 6, 6, 6, 6, 6, 6, 6, 7, 7, 7, 7, 7, 7, 7, 7, 7, 7, 7, 7, 7, 7, 7, 7, 7, 7, 7, 7, 8, 8, 8, 8, 8, 8, 8, 8, 9, 9, 9, 9, 9, 9, 9, 9, 9, 9, 9, 10, 10, 10, 10, 10, 10, 10, 10, 10, 10, 10, 10, 10, 10, 10, 10 ]\n",
    "B =  10\n",
    "print(len(A))\n",
    "# def createListNode(arr):\n",
    "#     root = ListNode(0)\n",
    "#     val = arr.pop(0)\n",
    "#     node = ListNode(val)\n",
    "#     root.next = node \n",
    "#     while arr:\n",
    "#         val = arr.pop(0)\n",
    "#         node.next = ListNode(val)\n",
    "#         node = node.next\n",
    "#     return root.next\n",
    "\n",
    "# nodes = createListNode(stack)\n",
    "# nodes2 = createListNode(stack2)\n",
    "\n",
    "sol = Solution()\n",
    "output = sol.searchRange(A, B)\n",
    "print(output)\n",
    "\n",
    "# n = output\n",
    "# print('output')\n",
    "# while n:\n",
    "#     print(n.val)\n",
    "#     n = n.next"
   ]
  }
 ],
 "metadata": {
  "kernelspec": {
   "display_name": "Python 3",
   "language": "python",
   "name": "python3"
  },
  "language_info": {
   "codemirror_mode": {
    "name": "ipython",
    "version": 3
   },
   "file_extension": ".py",
   "mimetype": "text/x-python",
   "name": "python",
   "nbconvert_exporter": "python",
   "pygments_lexer": "ipython3",
   "version": "3.7.2"
  }
 },
 "nbformat": 4,
 "nbformat_minor": 2
}
