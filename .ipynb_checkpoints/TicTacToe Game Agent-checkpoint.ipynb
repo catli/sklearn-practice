{
 "cells": [
  {
   "cell_type": "code",
   "execution_count": 12,
   "metadata": {},
   "outputs": [
    {
     "name": "stdout",
     "output_type": "stream",
     "text": [
      "- | - | -\n",
      "- | - | -\n",
      "- | - | -\n"
     ]
    }
   ],
   "source": [
    "# Tic-tac toe \n",
    "\n",
    "\n",
    "\n",
    "class ticTacToe:\n",
    "    \n",
    "    def __init__(self, turn = \"o\"):\n",
    "        self.board = [[\"-\"]*3]*3\n",
    "        # turn can be \"o\" or \"x\"\n",
    "        self.turn = turn\n",
    "    \n",
    "    def printBoard(self):\n",
    "        for row in board:\n",
    "            print(\"%s | %s | %s\" % (row[0], row[1], row[2]))\n",
    "\n",
    "    def playTurn(self, position):\n",
    "        row = position[0]\n",
    "        col = position[1]\n",
    "        if row>=len(self.board):\n",
    "            print('Illegal move, try again')\n",
    "        if col>=len(self.board[0]):\n",
    "            print('Illegal move, try again')\n",
    "        if self.board[row][col]==\"-\":\n",
    "            self.board[row][col] = self.turn\n",
    "            self.printBoard()\n",
    "            if self.turn == 'o':\n",
    "                self.turn = 'x'\n",
    "            elif self.turn == 'x':\n",
    "                self.turn = 'o'\n",
    "        else:\n",
    "            print('Illegal move, try again')\n",
    "        \n",
    "            \n",
    "board = [[\"-\",\"-\",\"-\"]]*3\n",
    "tic = ticTacToe(\"0\")\n",
    "tic.printBoard()"
   ]
  }
 ],
 "metadata": {
  "kernelspec": {
   "display_name": "Python 3",
   "language": "python",
   "name": "python3"
  },
  "language_info": {
   "codemirror_mode": {
    "name": "ipython",
    "version": 3
   },
   "file_extension": ".py",
   "mimetype": "text/x-python",
   "name": "python",
   "nbconvert_exporter": "python",
   "pygments_lexer": "ipython3",
   "version": "3.7.2"
  }
 },
 "nbformat": 4,
 "nbformat_minor": 2
}
