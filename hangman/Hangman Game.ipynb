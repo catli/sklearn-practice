{
 "cells": [
  {
   "cell_type": "code",
   "execution_count": 50,
   "metadata": {},
   "outputs": [],
   "source": [
    "from urllib.request import urlopen\n",
    "import random as rand\n",
    "\n",
    "\n",
    "class wordPicker():\n",
    "    \n",
    "    def __init__(self):\n",
    "        self.word = pickWord()\n",
    "    \n",
    "    def pickWord():\n",
    "        word_reader = urlopen('http://norvig.com/ngrams/sowpods.txt')\n",
    "        word_output = []\n",
    "        for word in word_reader:\n",
    "            word_output.append(str(word.splitlines()[0]))\n",
    "        word = rand.sample(word_output, 1)\n",
    "        return word[0]\n",
    "\n",
    "\n",
    "    \n",
    "new_word = wordPicker()"
   ]
  },
  {
   "cell_type": "code",
   "execution_count": 51,
   "metadata": {},
   "outputs": [
    {
     "name": "stdout",
     "output_type": "stream",
     "text": [
      "_ _ _ _ _ _ _ _ _ _ _ \n"
     ]
    }
   ],
   "source": [
    "from re import match\n",
    "\n",
    "class HangMan:\n",
    "\n",
    "    def __init__(self, word):\n",
    "        self.word = word\n",
    "        self.hidden = [True]*len(word)\n",
    "        self.guessed = set()\n",
    "        self.displayGame()\n",
    "        \n",
    "    \n",
    "    def displayGame(self):\n",
    "        # display the current state of the game \n",
    "        display = ''\n",
    "        for i, char in enumerate(self.word):\n",
    "            if self.hidden[i]:\n",
    "                display = display + '_' + ' '\n",
    "            else:\n",
    "                display = display + char\n",
    "        print(display)\n",
    "        return display\n",
    "    \n",
    "    def guessLetter(self, letter):\n",
    "        # [TODO] make sure letter is a valid alphabet\n",
    "        # make sure letter is not already guessed\n",
    "        is_in_word = False\n",
    "        if letter in self.guessed:\n",
    "            print('Try again! Already guessed!')\n",
    "        else:\n",
    "            for i, char in enumerate(self.word):\n",
    "                if self.hidden[i]:\n",
    "                    if char.lower() == letter.lower():\n",
    "                        self.hidden[i] = False\n",
    "                        is_in_word = True\n",
    "            self.guessed.add(letter)\n",
    "        if not is_in_word:\n",
    "            print('Not in word!')\n",
    "        self.displayGame()\n",
    "    \n",
    "    \n",
    "\n",
    "hang = HangMan(new_word.word)\n"
   ]
  },
  {
   "cell_type": "code",
   "execution_count": 64,
   "metadata": {},
   "outputs": [
    {
     "name": "stdout",
     "output_type": "stream",
     "text": [
      "b_ T_ AC_ OMA_ \n"
     ]
    }
   ],
   "source": [
    "hang.guessLetter('')"
   ]
  }
 ],
 "metadata": {
  "kernelspec": {
   "display_name": "Python 3",
   "language": "python",
   "name": "python3"
  },
  "language_info": {
   "codemirror_mode": {
    "name": "ipython",
    "version": 3
   },
   "file_extension": ".py",
   "mimetype": "text/x-python",
   "name": "python",
   "nbconvert_exporter": "python",
   "pygments_lexer": "ipython3",
   "version": "3.7.2"
  }
 },
 "nbformat": 4,
 "nbformat_minor": 2
}
